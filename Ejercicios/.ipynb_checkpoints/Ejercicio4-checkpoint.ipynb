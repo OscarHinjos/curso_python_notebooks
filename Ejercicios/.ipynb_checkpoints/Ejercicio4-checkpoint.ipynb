{
 "cells": [
  {
   "cell_type": "markdown",
   "id": "312480ea-c727-4e46-97dd-d5cf367bdf25",
   "metadata": {},
   "source": [
    "# Ejercicio 4"
   ]
  },
  {
   "cell_type": "markdown",
   "id": "c8b4fb52-fc2a-4ac2-af98-ec57c75922d3",
   "metadata": {},
   "source": [
    "## Enunciado"
   ]
  },
  {
   "cell_type": "code",
   "execution_count": null,
   "id": "ffa42a52-6ef6-42f6-8889-b27f84c1d9f2",
   "metadata": {},
   "outputs": [],
   "source": [
    "\"\"\"Colegio 3 aulas (Listas):\n",
    "Insertar aulumno --> En que aula meter el alumno(1,2,3) ---> DNI,NOMBRE,APELLIDOS\n",
    "Mostrar alumnos colegio -->Todos los alumnos del colegio por aula \n",
    "Mostrar alumnos aula --> Todos los alumnos de un aula en especifico\n",
    "Buscar alumno --> pregunta DNI y mostrar en que aula se encuentra el alumno y si lo encuentra\n",
    "Borrar alumno (Opcional)\n",
    "Salir\"\"\""
   ]
  },
  {
   "cell_type": "code",
   "execution_count": null,
   "id": "96ece1fc-ed11-4065-a93e-391fbfc90e35",
   "metadata": {},
   "outputs": [
    {
     "name": "stdout",
     "output_type": "stream",
     "text": [
      "1. Insertar alumnos\n",
      "2. Mostrar alumnos\n",
      "3. Mostrar alumnos por aula\n",
      "4. Buscar alumno\n",
      "5 Salir del programa\n"
     ]
    }
   ],
   "source": [
    "menu = \"1. Insertar alumnos\\n2. Mostrar alumnos\\n3. Mostrar alumnos por aula\\n4. Buscar alumno\\n5 Salir del programa\"\n",
    "inscription = \"En que aula quieres inscribirte:\\nAULA 1\\nAula 2\\nAula 3\"\n",
    "\n",
    "school ={'aula1':[],'aula2':[],'aula3':[]}\n",
    "while(True):\n",
    "    print(menu)\n",
    "    option = int(input(\"Introduzca una opcion: \"))\n",
    "    if option ==1:\n",
    "        print(inscription)\n",
    "        number_classroom = int(input(\"Introduzca un numero: \"))\n",
    "        #validacion numero correcto\n",
    "        while number_classroom > 3 or number_classroom < 1:\n",
    "            print(\"Introdujo un número erroneo vuelva a intentarlo\")\n",
    "            number_classroom = int(input(\"Introduzca un numero: \"))\n",
    "        #Datos alumno\n",
    "        dni_pupil = input(\"¿Cual es tu DNI? \")\n",
    "        name_pupil = input(\"¿Cual es tu nombre? \")\n",
    "        surnames_pupil = input(\"¿Cuales son tus apellidos? \")\n",
    "        #Ingresar los datos del alumno en su respectiva clase\n",
    "        if number_classroom == 1:\n",
    "            school[\"aula1\"].append({'DNI':dni_pupil,'NOMBRE':name_pupil,'APELLIDOS':surnames_pupil})\n",
    "        if number_classroom == 2:\n",
    "            school[\"aula2\"].append({'DNI':dni_pupil,'NOMBRE':name_pupil,'APELLIDOS':surnames_pupil})   \n",
    "        if number_classroom == 3:\n",
    "            school[\"aula3\"].append({'DNI':dni_pupil,'NOMBRE':name_pupil,'APELLIDOS':surnames_pupil})    \n",
    "\n",
    "    elif option == 2:\n",
    "        #Mostrar todos los alumnos del colegio por aulas\n",
    "        print(\"Estos son todos los alumnos que hay en el colegio por aulas\")\n",
    "        print(\"================================\")  \n",
    "        print(\"Aula 1: \")\n",
    "        for i,classroom in school.items():\n",
    "            if i == 'aula1':\n",
    "                for j,pupil in enumerate(classroom):\n",
    "                    print(\"El alumno: \", pupil['NOMBRE'], \" \", pupil['APELLIDOS'], \" con DNI: \", pupil['DNI'])    \n",
    "        print(\"================================\")\n",
    "        print(\"Aula 2: \")\n",
    "        for i,classroom in school.items():\n",
    "            if i == 'aula2':\n",
    "                for j,pupil in enumerate(classroom):\n",
    "                        print(\"El alumno: \", pupil['NOMBRE'], \" \", pupil['APELLIDOS'], \" con DNI: \", pupil['DNI'])    \n",
    "        print(\"================================\")\n",
    "        print(\"Aula 3: \")\n",
    "        for i,classroom in school.items():\n",
    "            if i == 'aula3':\n",
    "                for j,pupil in enumerate(classroom):\n",
    "                    print(\"El alumno: \", pupil['NOMBRE'], \" \", pupil['APELLIDOS'], \" con DNI: \", pupil['DNI'])    \n",
    "        print(\"================================\")\n",
    "           \n",
    "           \n",
    "    elif option == 3:\n",
    "        #Mostrar alumnos por aula\n",
    "        print(\"AULA 1\\nAula 2\\nAula 3\")\n",
    "        print(\"¿Que aula quieres mostrar?\")\n",
    "        classroom_number = int(input(\"Numero de aula: \"))\n",
    "        #Validacion numero correcto\n",
    "        while classroom_number < 1 and classroom_number > 3:\n",
    "            print(\"Has seleccionado un valor no valido, vuelva a intentarlo\")\n",
    "            classroom = int(input(\"Numero de aula: \"))\n",
    "\n",
    "        for i, classroom in school.items():\n",
    "            if classroom_number == 1 and i == 'aula1':\n",
    "                print(\"================================\") \n",
    "                print(\"AULA 1: \")\n",
    "                for j,pupil in enumerate(classroom):\n",
    "                    print(\"El alumno: \", pupil['NOMBRE'], \" \", pupil['APELLIDOS'], \" con DNI: \", pupil['DNI'])    \n",
    "                print(\"================================\") \n",
    "            elif classroom_number == 2 and i == 'aula2': \n",
    "                print(\"================================\") \n",
    "                print(\"AULA 2: \")\n",
    "                for j,pupil in enumerate(classroom):\n",
    "                    print(\"El alumno: \", pupil['NOMBRE'], \" \", pupil['APELLIDOS'], \" con DNI: \", pupil['DNI'])    \n",
    "                print(\"================================\") \n",
    "            elif classroom_number == 3 and i == 'aula3': \n",
    "                print(\"================================\") \n",
    "                print(\"AULA 3: \")\n",
    "                for j,pupil in enumerate(classroom):\n",
    "                    print(\"El alumno: \", pupil['NOMBRE'], \" \", pupil['APELLIDOS'], \" con DNI: \", pupil['DNI'])    \n",
    "                print(\"================================\")     \n",
    "\n",
    "    elif option == 4:\n",
    "        #Mostrar solo alumno por DNI\n",
    "        dni = input(\"¿Cual es el DNI del aulmno que quieres buscar?\")\n",
    "        for i,classroom in school.items():\n",
    "            for j,pupil in enumerate(classroom):\n",
    "                if dni == pupil['DNI']:\n",
    "                    print(\"El alumno que buscas se llama: \", pupil['NOMBRE'], \" \", pupil['APELLIDOS'])\n",
    "\n",
    "    elif option == 5:\n",
    "        print(\"Adios!\")\n",
    "        break    \n"
   ]
  }
 ],
 "metadata": {
  "kernelspec": {
   "display_name": "Python 3 (ipykernel)",
   "language": "python",
   "name": "python3"
  },
  "language_info": {
   "codemirror_mode": {
    "name": "ipython",
    "version": 3
   },
   "file_extension": ".py",
   "mimetype": "text/x-python",
   "name": "python",
   "nbconvert_exporter": "python",
   "pygments_lexer": "ipython3",
   "version": "3.9.13"
  }
 },
 "nbformat": 4,
 "nbformat_minor": 5
}
