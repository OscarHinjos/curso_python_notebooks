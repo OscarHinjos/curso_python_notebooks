{
 "cells": [
  {
   "cell_type": "markdown",
   "metadata": {},
   "source": [
    "## Ejercicio5. Funciones Lambda"
   ]
  },
  {
   "cell_type": "markdown",
   "metadata": {},
   "source": [
    "A partir del siguiente listado de emails:\n",
    "lista_emails = [\"asdasdas.es\",\"asdas asdsdsa@sda.e\",\"asdasd@asdas@asdsad.es\", \"asdad@a.es\", \"a sgsdfsd@a.esfa.sfasdf\", \"asdas.dasd@as.dsfd.as.es \"]\n",
    "- obtener, los nombres de usuario de aquellos emails que sean validos (valido: 1@, no tiene espacios en blanco, despues de la @ hay 1 punto)\n",
    "- indicar el número de emails validos que hay dentro del listado\n"
   ]
  },
  {
   "cell_type": "code",
   "execution_count": 29,
   "metadata": {},
   "outputs": [
    {
     "name": "stdout",
     "output_type": "stream",
     "text": [
      "Listado de usuarios validos : ['asdad@a.es', 'asdas.dasd@as.dsfd.as.es ']\n",
      "2\n"
     ]
    }
   ],
   "source": [
    "#Ejercicio funciones lambda\n",
    "#importaciones\n",
    "from functools import reduce\n",
    "\n",
    "#Enunciado: \n",
    "lista_emails = [\"asdasdas.es\",\"asdas asdsdsa@sda.e\",\"asdasd@asdas@asdsad.es\", \n",
    "\"asdad@a.es\", \"a sgsdfsd@a.esfa.sfasdf\", \"asdas.dasd@as.dsfd.as.es \"]\n",
    "\n",
    "email =list(filter(lambda email : email.count(\"@\") == 1 , lista_emails))\n",
    "email2 =list(filter(lambda email: not \" \" in email.strip(), email))\n",
    "email3 =list(filter(lambda email: email.split(\"@\")[-1].count(\".\") >=1, email2))\n",
    "usuarios = list(map(lambda email: email.split(\"@\")[0], email3))\n",
    "\n",
    "print(\"Listado de usuarios validos : {}\".format(email3))\n",
    "\n",
    "print(str(reduce(lambda u1, u2 : u1 + 1 , usuarios, 0)))\n"
   ]
  }
 ],
 "metadata": {
  "kernelspec": {
   "display_name": "Python 3 (ipykernel)",
   "language": "python",
   "name": "python3"
  },
  "language_info": {
   "codemirror_mode": {
    "name": "ipython",
    "version": 3
   },
   "file_extension": ".py",
   "mimetype": "text/x-python",
   "name": "python",
   "nbconvert_exporter": "python",
   "pygments_lexer": "ipython3",
   "version": "3.9.13"
  }
 },
 "nbformat": 4,
 "nbformat_minor": 4
}
